{
 "cells": [
  {
   "cell_type": "code",
   "execution_count": 37,
   "metadata": {},
   "outputs": [],
   "source": [
    "import numpy as np\n",
    "import numpy.linalg as LA\n",
    "import matplotlib.pyplot as plt\n",
    "import pandas as pd\n",
    "from sklearn.linear_model import LinearRegression\n",
    "from sklearn.preprocessing import PolynomialFeatures\n",
    "from sklearn.pipeline import Pipeline\n",
    "from sklearn.linear_model import Ridge"
   ]
  },
  {
   "cell_type": "markdown",
   "metadata": {},
   "source": [
    "## Interpolating a Background Extinction Rate"
   ]
  },
  {
   "cell_type": "code",
   "execution_count": 225,
   "metadata": {},
   "outputs": [],
   "source": [
    "#Handle zero values for exponential regression\n",
    "def safe_ln(x):\n",
    "    index = 0\n",
    "    for a in x:\n",
    "        if a<=0:\n",
    "            x[index]=0\n",
    "        else:\n",
    "            x[index]=np.log(x[index])\n",
    "        index=index+1\n",
    "    return x"
   ]
  },
  {
   "cell_type": "code",
   "execution_count": 354,
   "metadata": {},
   "outputs": [],
   "source": [
    "#read in data\n",
    "data = pd.read_csv('Matrix_Project/Extinction_Data_Early.csv')\n",
    "\n",
    "#y data: 1=Amphibians 2=Birds 3=Fish 4=Mammals 5=Reptiles\n",
    "x=data.iloc[:, 0].values.reshape(-1, 1)"
   ]
  },
  {
   "cell_type": "code",
   "execution_count": null,
   "metadata": {},
   "outputs": [],
   "source": [
    "y=data.iloc[:, 1].values.reshape(-1, 1)\n",
    "\n",
    "x1 =x.ravel()\n",
    "y1=y.ravel()\n",
    "\n",
    "#linear approximation\n",
    "lin, res1, _, _, _ = np.polyfit(x1,y1,1,full=True)\n",
    "poly1 = np.poly1d(lin)\n",
    "new_x1 = np.linspace(x1[0], x1[-1])\n",
    "new_y1 = poly1(new_x1)\n",
    "\n",
    "#quadratic approximation\n",
    "quad, res2, _, _, _ = np.polyfit(x1,y1,2,full=True)\n",
    "poly2 = np.poly1d(quad)\n",
    "new_x2 = np.linspace(x1[0], x1[-1])\n",
    "new_y2 = poly2(new_x2)\n",
    "\n",
    "#cubic approximation\n",
    "cub, res3, _, _, _ = np.polyfit(x1,y1,3,full=True)\n",
    "poly3 = np.poly1d(cub)\n",
    "new_x3 = np.linspace(x1[0], x1[-1])\n",
    "new_y3 = poly3(new_x3)\n",
    "\n",
    "#fourth degree approximation\n",
    "fourth, res4, _, _, _ = np.polyfit(x1,y1,4,full=True)\n",
    "poly4 = np.poly1d(fourth)\n",
    "new_x4 = np.linspace(x1[0], x1[-1])\n",
    "new_y4 = poly4(new_x4)\n",
    "\n",
    "#exponential approximation\n",
    "# log_x_data = np.log(x1)\n",
    "# log_y_data = safe_ln(y1.astype(float))\n",
    "# curve_fit = np.polyfit(x1, log_y_data, 1)\n",
    "# ex = np.exp(curve_fit[1]) * np.exp(curve_fit[0]*x1)\n",
    "\n",
    "#plot!\n",
    "plt.plot(new_x1, new_y1, color = 'red')\n",
    "plt.plot(new_x2, new_y2, color ='green')\n",
    "plt.plot(new_x3, new_y3, color = 'black')\n",
    "plt.plot(new_x4, new_y4, color = 'purple')\n",
    "#plt.plot(x1, ex, color = \"purple\")\n",
    "plt.scatter(x,y)\n",
    "plt.xlabel(\"Years\")\n",
    "plt.ylabel(\"Number of recorded extinctions\")\n",
    "plt.title(\"Amphibian Extinctions Years 200-1700\")\n",
    "plt.legend([\"Linear\",\"Quadratic\", \"Cubic\", \"Fourth order\"])\n",
    "plt.savefig('amphibian_interp.pdf')\n",
    "plt.show()"
   ]
  },
  {
   "cell_type": "markdown",
   "metadata": {},
   "source": [
    "#### Residuals"
   ]
  },
  {
   "cell_type": "code",
   "execution_count": 323,
   "metadata": {},
   "outputs": [
    {
     "name": "stdout",
     "output_type": "stream",
     "text": [
      "First degree residual: [0.]\n",
      "Second degree residual: [0.]\n",
      "Third degree residual: [0.]\n",
      "Fourth degree residual: [0.]\n"
     ]
    }
   ],
   "source": [
    "print(\"First degree residual:\" , res1/len(x1))\n",
    "print(\"Second degree residual:\" , res2/len(x1))\n",
    "print(\"Third degree residual:\" , res3/len(x1))\n",
    "print(\"Fourth degree residual:\" , res4/len(x1))"
   ]
  },
  {
   "cell_type": "markdown",
   "metadata": {},
   "source": [
    "#### Polynomials"
   ]
  },
  {
   "cell_type": "code",
   "execution_count": 324,
   "metadata": {},
   "outputs": [
    {
     "name": "stdout",
     "output_type": "stream",
     "text": [
      "First degree approximation:  \n",
      "0\n",
      "Second degree approximation:  \n",
      "0\n",
      "Third degree approximation:  \n",
      "0\n",
      "Fourth degree approximation:  \n",
      "0\n"
     ]
    }
   ],
   "source": [
    "print(\"First degree approximation:\" , poly1)\n",
    "print(\"Second degree approximation:\" , poly2)\n",
    "print(\"Third degree approximation:\" , poly3)\n",
    "print(\"Fourth degree approximation:\" , poly4)"
   ]
  },
  {
   "cell_type": "code",
   "execution_count": null,
   "metadata": {},
   "outputs": [],
   "source": [
    "#using sklearn \n",
    "from sklearn.preprocessing import PolynomialFeatures\n",
    "from sklearn.pipeline import make_pipeline\n",
    "from sklearn.linear_model import LinearRegression\n",
    "degree=3\n",
    "polyreg=make_pipeline(PolynomialFeatures(degree),LinearRegression())\n",
    "polyreg.fit(x,y)\n",
    "plt.figure()\n",
    "plt.scatter(x,y)\n",
    "plt.plot(x,polyreg.predict(x),color=\"black\")\n",
    "plt.title(\"Polynomial regression with degree \"+str(degree))\n",
    "plt.show()"
   ]
  },
  {
   "cell_type": "code",
   "execution_count": 277,
   "metadata": {},
   "outputs": [],
   "source": [
    "X = x.flatten()"
   ]
  },
  {
   "cell_type": "code",
   "execution_count": null,
   "metadata": {},
   "outputs": [],
   "source": [
    "fit = np.polyfit(X, y, 3)\n",
    "fit_eq = fit[0] * np.square(x) + fit[1] * x + fit[2]\n",
    "fig1 = plt.figure()\n",
    "ax1 = fig1.subplots()\n",
    "ax1.plot(X, fit_eq,color = 'r',alpha = 0.5, label = 'Polynomial fit')\n",
    "ax1.scatter(X, y, s = 5, color = 'b', label = 'Data points')\n",
    "ax1.set_title('Polynomial fit example')\n",
    "ax1.legend()\n",
    "plt.show()"
   ]
  },
  {
   "cell_type": "code",
   "execution_count": null,
   "metadata": {},
   "outputs": [],
   "source": [
    "y=data.iloc[:, 2].values.reshape(-1, 1)\n",
    "\n",
    "x1 =x.ravel()\n",
    "y1=y.ravel()\n",
    "\n",
    "#linear approximation\n",
    "lin, res1, _, _, _ = np.polyfit(x1,y1,1,full=True)\n",
    "poly1 = np.poly1d(lin)\n",
    "new_x1 = np.linspace(x1[0], x1[-1])\n",
    "new_y1 = poly1(new_x1)\n",
    "\n",
    "#quadratic approximation\n",
    "quad, res2, _, _, _ = np.polyfit(x1,y1,2,full=True)\n",
    "poly2 = np.poly1d(quad)\n",
    "new_x2 = np.linspace(x1[0], x1[-1])\n",
    "new_y2 = poly2(new_x2)\n",
    "\n",
    "#cubic approximation\n",
    "cub, res3, _, _, _ = np.polyfit(x1,y1,3,full=True)\n",
    "poly3 = np.poly1d(cub)\n",
    "new_x3 = np.linspace(x1[0], x1[-1])\n",
    "new_y3 = poly3(new_x3)\n",
    "\n",
    "#fourth degree approximation\n",
    "fourth, res4, _, _, _ = np.polyfit(x1,y1,4,full=True)\n",
    "poly4 = np.poly1d(fourth)\n",
    "new_x4 = np.linspace(x1[0], x1[-1])\n",
    "new_y4 = poly4(new_x4)\n",
    "\n",
    "#plot!\n",
    "plt.plot(new_x1, new_y1, color = 'red')\n",
    "plt.plot(new_x2, new_y2, color ='green')\n",
    "plt.plot(new_x3, new_y3, color = 'black')\n",
    "plt.plot(new_x4, new_y4, color = 'purple')\n",
    "#plt.xlim(1360,1760)\n",
    "plt.scatter(x,y)\n",
    "plt.xlabel(\"Years\")\n",
    "plt.ylabel(\"Number of recorded extinctions\")\n",
    "plt.title(\"Bird Extinctions Years 200-1700\")\n",
    "plt.legend([\"Linear\",\"Quadratic\", \"Cubic\", \"Fourth order\"],loc='upper left')\n",
    "plt.savefig('bird_interp.pdf')\n",
    "plt.show()"
   ]
  },
  {
   "cell_type": "markdown",
   "metadata": {},
   "source": [
    "#### Residuals"
   ]
  },
  {
   "cell_type": "code",
   "execution_count": 326,
   "metadata": {},
   "outputs": [
    {
     "name": "stdout",
     "output_type": "stream",
     "text": [
      "First degree residual: [2.44116065]\n",
      "Second degree residual: [2.33716217]\n",
      "Third degree residual: [2.33695465]\n",
      "Fourth degree residual: [2.33261136]\n"
     ]
    }
   ],
   "source": [
    "print(\"First degree residual:\" , res1/len(x1))\n",
    "print(\"Second degree residual:\" , res2/len(x1))\n",
    "print(\"Third degree residual:\" , res3/len(x1))\n",
    "print(\"Fourth degree residual:\" , res4/len(x1))"
   ]
  },
  {
   "cell_type": "markdown",
   "metadata": {},
   "source": [
    "#### Polynomials"
   ]
  },
  {
   "cell_type": "code",
   "execution_count": 327,
   "metadata": {},
   "outputs": [
    {
     "name": "stdout",
     "output_type": "stream",
     "text": [
      "First degree approximation:  \n",
      "0.002075 x - 0.9758\n",
      "Second degree approximation:            2\n",
      "1.881e-06 x - 0.00161 x + 0.2869\n",
      "Third degree approximation:            3             2\n",
      "-2.16e-10 x + 2.545e-06 x - 0.002196 x + 0.4112\n",
      "Fourth degree approximation:             4             3             2\n",
      "-2.494e-12 x + 9.252e-09 x - 9.393e-06 x + 0.003395 x - 0.3723\n"
     ]
    }
   ],
   "source": [
    "print(\"First degree approximation:\" , poly1)\n",
    "print(\"Second degree approximation:\" , poly2)\n",
    "print(\"Third degree approximation:\" , poly3)\n",
    "print(\"Fourth degree approximation:\" , poly4)"
   ]
  },
  {
   "cell_type": "code",
   "execution_count": 328,
   "metadata": {},
   "outputs": [
    {
     "name": "stdout",
     "output_type": "stream",
     "text": [
      "           2\n",
      "1.881e-06 x - 0.00161 x + 0.2869\n"
     ]
    }
   ],
   "source": [
    "print(poly2)"
   ]
  },
  {
   "cell_type": "code",
   "execution_count": null,
   "metadata": {},
   "outputs": [],
   "source": [
    "y=data.iloc[:, 3].values.reshape(-1, 1)\n",
    "\n",
    "x1 =x.ravel()\n",
    "y1=y.ravel()\n",
    "\n",
    "#linear approximation\n",
    "lin, res1, _, _, _ = np.polyfit(x1,y1,1,full=True)\n",
    "poly1 = np.poly1d(lin)\n",
    "new_x1 = np.linspace(x1[0], x1[-1])\n",
    "new_y1 = poly1(new_x1)\n",
    "\n",
    "#quadratic approximation\n",
    "quad, res2, _, _, _ = np.polyfit(x1,y1,2,full=True)\n",
    "poly2 = np.poly1d(quad)\n",
    "new_x2 = np.linspace(x1[0], x1[-1])\n",
    "new_y2 = poly2(new_x2)\n",
    "\n",
    "#cubic approximation\n",
    "cub, res3, _, _, _ = np.polyfit(x1,y1,3,full=True)\n",
    "poly3 = np.poly1d(cub)\n",
    "new_x3 = np.linspace(x1[0], x1[-1])\n",
    "new_y3 = poly3(new_x3)\n",
    "\n",
    "#fourth degree approximation\n",
    "fourth, res4, _, _, _ = np.polyfit(x1,y1,4,full=True)\n",
    "poly4 = np.poly1d(fourth)\n",
    "new_x4 = np.linspace(x1[0], x1[-1])\n",
    "new_y4 = poly4(new_x4)\n",
    "\n",
    "#plot!\n",
    "plt.plot(new_x1, new_y1, color = 'red')\n",
    "plt.plot(new_x2, new_y2, color ='green')\n",
    "plt.plot(new_x3, new_y3, color = 'black')\n",
    "plt.plot(new_x4, new_y4, color = 'purple')\n",
    "plt.scatter(x,y)\n",
    "plt.xlabel(\"Years\")\n",
    "plt.ylabel(\"Number of recorded extinctions\")\n",
    "plt.title(\"Fish Extinctions Years 200-1700\")\n",
    "plt.legend([\"Linear\",\"Quadratic\", \"Cubic\", \"Fourth order\"])\n",
    "plt.savefig('fish_interp.pdf')\n",
    "plt.show()"
   ]
  },
  {
   "cell_type": "markdown",
   "metadata": {},
   "source": [
    "#### Residuals"
   ]
  },
  {
   "cell_type": "code",
   "execution_count": 330,
   "metadata": {},
   "outputs": [
    {
     "name": "stdout",
     "output_type": "stream",
     "text": [
      "First degree residual: [0.]\n",
      "Second degree residual: [0.]\n",
      "Third degree residual: [0.]\n",
      "Fourth degree residual: [0.]\n"
     ]
    }
   ],
   "source": [
    "print(\"First degree residual:\" , res1/len(x1))\n",
    "print(\"Second degree residual:\" , res2/len(x1))\n",
    "print(\"Third degree residual:\" , res3/len(x1))\n",
    "print(\"Fourth degree residual:\" , res4/len(x1))"
   ]
  },
  {
   "cell_type": "markdown",
   "metadata": {},
   "source": [
    "#### Polynomials"
   ]
  },
  {
   "cell_type": "code",
   "execution_count": 331,
   "metadata": {},
   "outputs": [
    {
     "name": "stdout",
     "output_type": "stream",
     "text": [
      "First degree approximation:  \n",
      "0\n",
      "Second degree approximation:  \n",
      "0\n",
      "Third degree approximation:  \n",
      "0\n",
      "Fourth degree approximation:  \n",
      "0\n"
     ]
    }
   ],
   "source": [
    "print(\"First degree approximation:\" , poly1)\n",
    "print(\"Second degree approximation:\" , poly2)\n",
    "print(\"Third degree approximation:\" , poly3)\n",
    "print(\"Fourth degree approximation:\" , poly4)"
   ]
  },
  {
   "cell_type": "code",
   "execution_count": null,
   "metadata": {},
   "outputs": [],
   "source": [
    "y=data.iloc[:, 4].values.reshape(-1, 1)\n",
    "\n",
    "x1 =x.ravel()\n",
    "y1=y.ravel()\n",
    "\n",
    "#linear approximation\n",
    "lin, res1, _, _, _ = np.polyfit(x1,y1,1,full=True)\n",
    "poly1 = np.poly1d(lin)\n",
    "new_x1 = np.linspace(x1[0], x1[-1])\n",
    "new_y1 = poly1(new_x1)\n",
    "\n",
    "#quadratic approximation\n",
    "quad, res2, _, _, _ = np.polyfit(x1,y1,2,full=True)\n",
    "poly2 = np.poly1d(quad)\n",
    "new_x2 = np.linspace(x1[0], x1[-1])\n",
    "new_y2 = poly2(new_x2)\n",
    "\n",
    "#cubic approximation\n",
    "cub, res3, _, _, _ = np.polyfit(x1,y1,3,full=True)\n",
    "poly3 = np.poly1d(cub)\n",
    "new_x3 = np.linspace(x1[0], x1[-1])\n",
    "new_y3 = poly3(new_x3)\n",
    "\n",
    "#fourth degree approximation\n",
    "fourth, res4, _, _, _ = np.polyfit(x1,y1,4,full=True)\n",
    "poly4 = np.poly1d(fourth)\n",
    "new_x4 = np.linspace(x1[0], x1[-1])\n",
    "new_y4 = poly4(new_x4)\n",
    "\n",
    "#plot!\n",
    "plt.plot(new_x1, new_y1, color = 'red')\n",
    "plt.plot(new_x2, new_y2, color ='green')\n",
    "plt.plot(new_x3, new_y3, color = 'black')\n",
    "plt.plot(new_x4, new_y4, color = 'purple')\n",
    "plt.scatter(x,y)\n",
    "plt.xlabel(\"Years\")\n",
    "plt.ylabel(\"Number of recorded extinctions\")\n",
    "plt.title(\"Mammal Extinctions Years 200-1700\")\n",
    "plt.legend([\"Linear\",\"Quadratic\", \"Cubic\", \"Fourth order\"])\n",
    "plt.savefig('mam_interp.pdf')\n",
    "plt.show()"
   ]
  },
  {
   "cell_type": "markdown",
   "metadata": {},
   "source": [
    "#### Residuals"
   ]
  },
  {
   "cell_type": "code",
   "execution_count": 333,
   "metadata": {},
   "outputs": [
    {
     "name": "stdout",
     "output_type": "stream",
     "text": [
      "First degree residual: [2.60902154]\n",
      "Second degree residual: [2.26408058]\n",
      "Third degree residual: [2.09954649]\n",
      "Fourth degree residual: [2.07844694]\n"
     ]
    }
   ],
   "source": [
    "print(\"First degree residual:\" , res1/len(x1))\n",
    "print(\"Second degree residual:\" , res2/len(x1))\n",
    "print(\"Third degree residual:\" , res3/len(x1))\n",
    "print(\"Fourth degree residual:\" , res4/len(x1))"
   ]
  },
  {
   "cell_type": "markdown",
   "metadata": {},
   "source": [
    "#### Polynomials"
   ]
  },
  {
   "cell_type": "code",
   "execution_count": 334,
   "metadata": {},
   "outputs": [
    {
     "name": "stdout",
     "output_type": "stream",
     "text": [
      "First degree approximation:  \n",
      "0.001084 x + 0.517\n",
      "Second degree approximation:            2\n",
      "3.426e-06 x - 0.005628 x + 2.817\n",
      "Third degree approximation:            3             2\n",
      "6.081e-09 x - 1.526e-05 x + 0.01089 x - 0.6824\n",
      "Fourth degree approximation:            4             3             2\n",
      "5.498e-12 x - 1.479e-08 x + 1.105e-05 x - 0.001431 x + 1.045\n"
     ]
    }
   ],
   "source": [
    "print(\"First degree approximation:\" , poly1)\n",
    "print(\"Second degree approximation:\" , poly2)\n",
    "print(\"Third degree approximation:\" , poly3)\n",
    "print(\"Fourth degree approximation:\" , poly4)"
   ]
  },
  {
   "cell_type": "code",
   "execution_count": null,
   "metadata": {},
   "outputs": [],
   "source": [
    "y=data.iloc[:, 5].values.reshape(-1, 1)\n",
    "\n",
    "x1 =x.ravel()\n",
    "y1=y.ravel()\n",
    "\n",
    "#linear approximation\n",
    "lin, res1, _, _, _ = np.polyfit(x1,y1,1,full=True)\n",
    "poly1 = np.poly1d(lin)\n",
    "new_x1 = np.linspace(x1[0], x1[-1])\n",
    "new_y1 = poly1(new_x1)\n",
    "\n",
    "#quadratic approximation\n",
    "quad, res2, _, _, _ = np.polyfit(x1,y1,2,full=True)\n",
    "poly2 = np.poly1d(quad)\n",
    "new_x2 = np.linspace(x1[0], x1[-1])\n",
    "new_y2 = poly2(new_x2)\n",
    "\n",
    "#cubic approximation\n",
    "cub, res3, _, _, _ = np.polyfit(x1,y1,3,full=True)\n",
    "poly3 = np.poly1d(cub)\n",
    "new_x3 = np.linspace(x1[0], x1[-1])\n",
    "new_y3 = poly3(new_x3)\n",
    "\n",
    "#fourth degree approximation\n",
    "fourth, res4, _, _, _ = np.polyfit(x1,y1,4,full=True)\n",
    "poly4 = np.poly1d(fourth)\n",
    "new_x4 = np.linspace(x1[0], x1[-1])\n",
    "new_y4 = poly4(new_x4)\n",
    "\n",
    "#plot!\n",
    "plt.plot(new_x1, new_y1, color = 'red')\n",
    "plt.plot(new_x2, new_y2, color ='green')\n",
    "plt.plot(new_x3, new_y3, color = 'black')\n",
    "plt.plot(new_x4, new_y4, color = 'purple')\n",
    "plt.scatter(x,y)\n",
    "plt.xlabel(\"Years\")\n",
    "plt.ylabel(\"Number of recorded extinctions\")\n",
    "plt.title(\"Reptile Extinctions Years 200-1700\")\n",
    "plt.legend([\"Linear\",\"Quadratic\", \"Cubic\", \"Fourth order\"])\n",
    "plt.savefig('rep_interp.pdf')\n",
    "plt.show()"
   ]
  },
  {
   "cell_type": "markdown",
   "metadata": {},
   "source": [
    "#### Residuals"
   ]
  },
  {
   "cell_type": "code",
   "execution_count": 336,
   "metadata": {},
   "outputs": [
    {
     "name": "stdout",
     "output_type": "stream",
     "text": [
      "First degree residual: [0.61977639]\n",
      "Second degree residual: [0.4295256]\n",
      "Third degree residual: [0.38278509]\n",
      "Fourth degree residual: [0.33401285]\n"
     ]
    }
   ],
   "source": [
    "print(\"First degree residual:\" , res1/len(x1))\n",
    "print(\"Second degree residual:\" , res2/len(x1))\n",
    "print(\"Third degree residual:\" , res3/len(x1))\n",
    "print(\"Fourth degree residual:\" , res4/len(x1))"
   ]
  },
  {
   "cell_type": "markdown",
   "metadata": {},
   "source": [
    "#### Polynomials"
   ]
  },
  {
   "cell_type": "code",
   "execution_count": 337,
   "metadata": {},
   "outputs": [
    {
     "name": "stdout",
     "output_type": "stream",
     "text": [
      "First degree approximation:  \n",
      "7.861e-05 x + 0.339\n",
      "Second degree approximation:            2\n",
      "2.544e-06 x - 0.004906 x + 2.047\n",
      "Third degree approximation:            3             2\n",
      "3.241e-09 x - 7.417e-06 x + 0.0039 x + 0.1819\n",
      "Fourth degree approximation:            4             3             2\n",
      "8.358e-12 x - 2.849e-08 x + 3.259e-05 x - 0.01484 x + 2.807\n"
     ]
    }
   ],
   "source": [
    "print(\"First degree approximation:\" , poly1)\n",
    "print(\"Second degree approximation:\" , poly2)\n",
    "print(\"Third degree approximation:\" , poly3)\n",
    "print(\"Fourth degree approximation:\" , poly4)"
   ]
  },
  {
   "cell_type": "markdown",
   "metadata": {},
   "source": [
    "## Interpolating a Current Extinction Rate"
   ]
  },
  {
   "cell_type": "code",
   "execution_count": 398,
   "metadata": {},
   "outputs": [],
   "source": [
    "#read in data\n",
    "data2 = pd.read_csv('Matrix_Project/Extinction_Data_Late.csv')\n",
    "\n",
    "#y data: 1=Amphibians 2=Birds 3=Fish 4=Mammals 5=Reptiles\n",
    "x=data2.iloc[:, 0].values.reshape(-1, 1)"
   ]
  },
  {
   "cell_type": "code",
   "execution_count": null,
   "metadata": {},
   "outputs": [],
   "source": [
    "y=data2.iloc[:, 1].values.reshape(-1, 1)\n",
    "\n",
    "x1 =x.ravel()\n",
    "y1=y.ravel()\n",
    "\n",
    "#linear approximation\n",
    "lin, res1, _, _, _ = np.polyfit(x1,y1,1,full=True)\n",
    "poly1 = np.poly1d(lin)\n",
    "new_x1 = np.linspace(x1[0], x1[-1])\n",
    "new_y1 = poly1(new_x1)\n",
    "\n",
    "#quadratic approximation\n",
    "quad, res2, _, _, _ = np.polyfit(x1,y1,2,full=True)\n",
    "poly2 = np.poly1d(quad)\n",
    "new_x2 = np.linspace(x1[0], x1[-1])\n",
    "new_y2 = poly2(new_x2)\n",
    "\n",
    "#cubic approximation\n",
    "cub, res3, _, _, _ = np.polyfit(x1,y1,3,full=True)\n",
    "poly3 = np.poly1d(cub)\n",
    "new_x3 = np.linspace(x1[0], x1[-1])\n",
    "new_y3 = poly3(new_x3)\n",
    "\n",
    "#fourth degree approximation\n",
    "fourth, res4, _, _, _ = np.polyfit(x1,y1,4,full=True)\n",
    "poly4 = np.poly1d(fourth)\n",
    "new_x4 = np.linspace(x1[0], x1[-1])\n",
    "new_y4 = poly4(new_x4)\n",
    "\n",
    "#plot!\n",
    "plt.plot(new_x1, new_y1, color = 'red')\n",
    "plt.plot(new_x2, new_y2, color ='green')\n",
    "plt.plot(new_x3, new_y3, color = 'black')\n",
    "plt.plot(new_x4, new_y4, color = 'purple')\n",
    "plt.scatter(x,y)\n",
    "plt.xlabel(\"Years\")\n",
    "plt.ylabel(\"Number of recorded extinctions\")\n",
    "plt.title(\"Amphibian Extinctions Years 1760-2010\")\n",
    "plt.legend([\"Linear\",\"Quadratic\", \"Cubic\", \"Fourth order\"])\n",
    "plt.savefig('amph_interp2.pdf')\n",
    "plt.show()"
   ]
  },
  {
   "cell_type": "markdown",
   "metadata": {},
   "source": [
    "#### Residuals"
   ]
  },
  {
   "cell_type": "code",
   "execution_count": 340,
   "metadata": {},
   "outputs": [
    {
     "name": "stdout",
     "output_type": "stream",
     "text": [
      "First degree residual: [2.65985536]\n",
      "Second degree residual: [2.29719686]\n",
      "Third degree residual: [2.22718571]\n",
      "Fourth degree residual: [2.15315644]\n"
     ]
    }
   ],
   "source": [
    "print(\"First degree residual:\" , res1/len(x1))\n",
    "print(\"Second degree residual:\" , res2/len(x1))\n",
    "print(\"Third degree residual:\" , res3/len(x1))\n",
    "print(\"Fourth degree residual:\" , res4/len(x1))"
   ]
  },
  {
   "cell_type": "markdown",
   "metadata": {},
   "source": [
    "#### Polynomials"
   ]
  },
  {
   "cell_type": "code",
   "execution_count": 341,
   "metadata": {},
   "outputs": [
    {
     "name": "stdout",
     "output_type": "stream",
     "text": [
      "First degree approximation:  \n",
      "0.02116 x - 38.01\n",
      "Second degree approximation:          2\n",
      "0.00012 x - 0.4311 x + 387.6\n",
      "Third degree approximation:            3            2\n",
      "8.049e-07 x - 0.004432 x + 8.141 x - 4988\n",
      "Fourth degree approximation:            4            3         2\n",
      "1.279e-08 x - 9.56e-05 x + 0.268 x - 333.7 x + 1.558e+05\n"
     ]
    }
   ],
   "source": [
    "print(\"First degree approximation:\" , poly1)\n",
    "print(\"Second degree approximation:\" , poly2)\n",
    "print(\"Third degree approximation:\" , poly3)\n",
    "print(\"Fourth degree approximation:\" , poly4)"
   ]
  },
  {
   "cell_type": "code",
   "execution_count": null,
   "metadata": {},
   "outputs": [],
   "source": [
    "# #using sklearn \n",
    "# from sklearn.preprocessing import PolynomialFeatures\n",
    "# from sklearn.pipeline import make_pipeline\n",
    "# from sklearn.linear_model import LinearRegression\n",
    "# degree=3\n",
    "# polyreg=make_pipeline(PolynomialFeatures(degree),LinearRegression())\n",
    "# polyreg.fit(x,y)\n",
    "# plt.figure()\n",
    "# plt.scatter(x,y)\n",
    "# plt.plot(x,polyreg.predict(x),color=\"black\")\n",
    "# plt.title(\"Polynomial regression with degree \"+str(degree))\n",
    "# plt.show()"
   ]
  },
  {
   "cell_type": "code",
   "execution_count": null,
   "metadata": {},
   "outputs": [],
   "source": [
    "# X = x.flatten()\n",
    "# fit = np.polyfit(X, y, 3)\n",
    "# fit_eq = fit[0] * np.square(x) + fit[1] * x + fit[2]\n",
    "# fig1 = plt.figure()\n",
    "# ax1 = fig1.subplots()\n",
    "# ax1.plot(X, fit_eq,color = 'r',alpha = 0.5, label = 'Polynomial fit')\n",
    "# ax1.scatter(X, y, s = 5, color = 'b', label = 'Data points')\n",
    "# ax1.set_title('Polynomial fit example')\n",
    "# ax1.legend()\n",
    "# plt.show()"
   ]
  },
  {
   "cell_type": "code",
   "execution_count": null,
   "metadata": {},
   "outputs": [],
   "source": [
    "y=data2.iloc[:, 2].values.reshape(-1, 1)\n",
    "\n",
    "x1 =x.ravel()\n",
    "y1=y.ravel()\n",
    "\n",
    "#linear approximation\n",
    "lin, res1, _, _, _ = np.polyfit(x1,y1,1,full=True)\n",
    "poly1 = np.poly1d(lin)\n",
    "new_x1 = np.linspace(x1[0], x1[-1])\n",
    "new_y1 = poly1(new_x1)\n",
    "\n",
    "#quadratic approximation\n",
    "quad, res2, _, _, _ = np.polyfit(x1,y1,2,full=True)\n",
    "poly2 = np.poly1d(quad)\n",
    "new_x2 = np.linspace(x1[0], x1[-1])\n",
    "new_y2 = poly2(new_x2)\n",
    "\n",
    "#cubic approximation\n",
    "cub, res3, _, _, _ = np.polyfit(x1,y1,3,full=True)\n",
    "poly3 = np.poly1d(cub)\n",
    "new_x3 = np.linspace(x1[0], x1[-1])\n",
    "new_y3 = poly3(new_x3)\n",
    "\n",
    "#fourth degree approximation\n",
    "fourth, res4, _, _, _ = np.polyfit(x1,y1,4,full=True)\n",
    "poly4 = np.poly1d(fourth)\n",
    "new_x4 = np.linspace(x1[0], x1[-1])\n",
    "new_y4 = poly4(new_x4)\n",
    "\n",
    "#plot!\n",
    "plt.plot(new_x1, new_y1, color = 'red')\n",
    "plt.plot(new_x2, new_y2, color ='green')\n",
    "plt.plot(new_x3, new_y3, color = 'black')\n",
    "plt.plot(new_x4, new_y4, color = 'purple')\n",
    "plt.scatter(x,y)\n",
    "plt.xlabel(\"Years\")\n",
    "plt.ylabel(\"Number of recorded extinctions\")\n",
    "plt.title(\"Bird Extinctions Years 1760-2010\")\n",
    "plt.legend([\"Linear\",\"Quadratic\", \"Cubic\", \"Fourth order\"])\n",
    "plt.savefig('bird_interp2.pdf')\n",
    "plt.show()"
   ]
  },
  {
   "cell_type": "markdown",
   "metadata": {},
   "source": [
    "#### Residuals"
   ]
  },
  {
   "cell_type": "code",
   "execution_count": 400,
   "metadata": {},
   "outputs": [
    {
     "name": "stdout",
     "output_type": "stream",
     "text": [
      "First degree residual: [14.3304668]\n",
      "Second degree residual: [12.54502489]\n",
      "Third degree residual: [11.25701231]\n",
      "Fourth degree residual: [7.07913395]\n"
     ]
    }
   ],
   "source": [
    "print(\"First degree residual:\" , res1/len(x1))\n",
    "print(\"Second degree residual:\" , res2/len(x1))\n",
    "print(\"Third degree residual:\" , res3/len(x1))\n",
    "print(\"Fourth degree residual:\" , res4/len(x1))"
   ]
  },
  {
   "cell_type": "markdown",
   "metadata": {},
   "source": [
    "#### Polynomials"
   ]
  },
  {
   "cell_type": "code",
   "execution_count": 344,
   "metadata": {},
   "outputs": [
    {
     "name": "stdout",
     "output_type": "stream",
     "text": [
      "First degree approximation:  \n",
      "0.0532 x - 90.81\n",
      "Second degree approximation:            2\n",
      "0.0002662 x - 0.9503 x + 853.5\n",
      "Third degree approximation:            3           2\n",
      "3.453e-06 x - 0.01926 x + 35.82 x - 2.221e+04\n",
      "Fourth degree approximation:            4             3         2\n",
      "9.606e-08 x - 0.0007208 x + 2.027 x - 2532 x + 1.186e+06\n"
     ]
    }
   ],
   "source": [
    "print(\"First degree approximation:\" , poly1)\n",
    "print(\"Second degree approximation:\" , poly2)\n",
    "print(\"Third degree approximation:\" , poly3)\n",
    "print(\"Fourth degree approximation:\" , poly4)"
   ]
  },
  {
   "cell_type": "code",
   "execution_count": null,
   "metadata": {},
   "outputs": [],
   "source": [
    "y=data2.iloc[:, 3].values.reshape(-1, 1)\n",
    "\n",
    "x1 =x.ravel()\n",
    "y1=y.ravel()\n",
    "\n",
    "#linear approximation\n",
    "lin, res1, _, _, _ = np.polyfit(x1,y1,1,full=True)\n",
    "poly1 = np.poly1d(lin)\n",
    "new_x1 = np.linspace(x1[0], x1[-1])\n",
    "new_y1 = poly1(new_x1)\n",
    "\n",
    "#quadratic approximation\n",
    "quad, res2, _, _, _ = np.polyfit(x1,y1,2,full=True)\n",
    "poly2 = np.poly1d(quad)\n",
    "new_x2 = np.linspace(x1[0], x1[-1])\n",
    "new_y2 = poly2(new_x2)\n",
    "\n",
    "#cubic approximation\n",
    "cub, res3, _, _, _ = np.polyfit(x1,y1,3,full=True)\n",
    "poly3 = np.poly1d(cub)\n",
    "new_x3 = np.linspace(x1[0], x1[-1])\n",
    "new_y3 = poly3(new_x3)\n",
    "\n",
    "#fourth degree approximation\n",
    "fourth, res4, _, _, _ = np.polyfit(x1,y1,4,full=True)\n",
    "poly4 = np.poly1d(fourth)\n",
    "new_x4 = np.linspace(x1[0], x1[-1])\n",
    "new_y4 = poly4(new_x4)\n",
    "\n",
    "#plot!\n",
    "plt.plot(new_x1, new_y1, color = 'red')\n",
    "plt.plot(new_x2, new_y2, color ='green')\n",
    "plt.plot(new_x3, new_y3, color = 'black')\n",
    "plt.plot(new_x4, new_y4, color = 'purple')\n",
    "plt.scatter(x,y)\n",
    "plt.xlabel(\"Years\")\n",
    "plt.ylabel(\"Number of recorded extinctions\")\n",
    "plt.title(\"Fish Extinctions Years 1760-2010\")\n",
    "plt.legend([\"Linear\",\"Quadratic\", \"Cubic\", \"Fourth order\"])\n",
    "plt.savefig('fish_interp2.pdf')\n",
    "plt.show()"
   ]
  },
  {
   "cell_type": "markdown",
   "metadata": {},
   "source": [
    "#### Residuals"
   ]
  },
  {
   "cell_type": "code",
   "execution_count": 346,
   "metadata": {},
   "outputs": [
    {
     "name": "stdout",
     "output_type": "stream",
     "text": [
      "First degree residual: [5.09693623]\n",
      "Second degree residual: [3.81806894]\n",
      "Third degree residual: [3.72929904]\n",
      "Fourth degree residual: [3.70639739]\n"
     ]
    }
   ],
   "source": [
    "print(\"First degree residual:\" , res1/len(x1))\n",
    "print(\"Second degree residual:\" , res2/len(x1))\n",
    "print(\"Third degree residual:\" , res3/len(x1))\n",
    "print(\"Fourth degree residual:\" , res4/len(x1))"
   ]
  },
  {
   "cell_type": "markdown",
   "metadata": {},
   "source": [
    "#### Polynomials"
   ]
  },
  {
   "cell_type": "code",
   "execution_count": 347,
   "metadata": {},
   "outputs": [
    {
     "name": "stdout",
     "output_type": "stream",
     "text": [
      "First degree approximation:  \n",
      "0.03217 x - 57.99\n",
      "Second degree approximation:            2\n",
      "0.0002253 x - 0.8171 x + 741.2\n",
      "Third degree approximation:             3            2\n",
      "-9.064e-07 x + 0.005351 x - 10.47 x + 6795\n",
      "Fourth degree approximation:             4             3          2\n",
      "-7.112e-09 x + 5.272e-05 x - 0.1462 x + 179.7 x - 8.263e+04\n"
     ]
    }
   ],
   "source": [
    "print(\"First degree approximation:\" , poly1)\n",
    "print(\"Second degree approximation:\" , poly2)\n",
    "print(\"Third degree approximation:\" , poly3)\n",
    "print(\"Fourth degree approximation:\" , poly4)"
   ]
  },
  {
   "cell_type": "code",
   "execution_count": null,
   "metadata": {},
   "outputs": [],
   "source": [
    "y=data2.iloc[:, 4].values.reshape(-1, 1)\n",
    "\n",
    "x1 =x.ravel()\n",
    "y1=y.ravel()\n",
    "\n",
    "#linear approximation\n",
    "lin, res1, _, _, _ = np.polyfit(x1,y1,1,full=True)\n",
    "poly1 = np.poly1d(lin)\n",
    "new_x1 = np.linspace(x1[0], x1[-1])\n",
    "new_y1 = poly1(new_x1)\n",
    "\n",
    "#quadratic approximation\n",
    "quad, res2, _, _, _ = np.polyfit(x1,y1,2,full=True)\n",
    "poly2 = np.poly1d(quad)\n",
    "new_x2 = np.linspace(x1[0], x1[-1])\n",
    "new_y2 = poly2(new_x2)\n",
    "\n",
    "#cubic approximation\n",
    "cub, res3, _, _, _ = np.polyfit(x1,y1,3,full=True)\n",
    "poly3 = np.poly1d(cub)\n",
    "new_x3 = np.linspace(x1[0], x1[-1])\n",
    "new_y3 = poly3(new_x3)\n",
    "\n",
    "#fourth degree approximation\n",
    "fourth, res4, _, _, _ = np.polyfit(x1,y1,4,full=True)\n",
    "poly4 = np.poly1d(fourth)\n",
    "new_x4 = np.linspace(x1[0], x1[-1])\n",
    "new_y4 = poly4(new_x4)\n",
    "\n",
    "#plot!\n",
    "plt.plot(new_x1, new_y1, color = 'red')\n",
    "plt.plot(new_x2, new_y2, color ='green')\n",
    "plt.plot(new_x3, new_y3, color = 'black')\n",
    "plt.plot(new_x4, new_y4, color = 'purple')\n",
    "plt.scatter(x,y)\n",
    "plt.xlabel(\"Years\")\n",
    "plt.ylabel(\"Number of recorded extinctions\")\n",
    "plt.title(\"Mammal Extinctions Years 1760-2010\")\n",
    "plt.legend([\"Linear\",\"Quadratic\", \"Cubic\", \"Fourth order\"])\n",
    "plt.savefig('mam_interp2.pdf')\n",
    "plt.show()"
   ]
  },
  {
   "cell_type": "markdown",
   "metadata": {},
   "source": [
    "#### Residuals"
   ]
  },
  {
   "cell_type": "code",
   "execution_count": 349,
   "metadata": {},
   "outputs": [
    {
     "name": "stdout",
     "output_type": "stream",
     "text": [
      "First degree residual: [5.77149244]\n",
      "Second degree residual: [5.63848784]\n",
      "Third degree residual: [4.95294089]\n",
      "Fourth degree residual: [4.35738372]\n"
     ]
    }
   ],
   "source": [
    "print(\"First degree residual:\" , res1/len(x1))\n",
    "print(\"Second degree residual:\" , res2/len(x1))\n",
    "print(\"Third degree residual:\" , res3/len(x1))\n",
    "print(\"Fourth degree residual:\" , res4/len(x1))"
   ]
  },
  {
   "cell_type": "markdown",
   "metadata": {},
   "source": [
    "#### Polynomials"
   ]
  },
  {
   "cell_type": "code",
   "execution_count": 350,
   "metadata": {},
   "outputs": [
    {
     "name": "stdout",
     "output_type": "stream",
     "text": [
      "First degree approximation:  \n",
      "0.03986 x - 69.6\n",
      "Second degree approximation:             2\n",
      "-7.265e-05 x + 0.3138 x - 327.3\n",
      "Third degree approximation:             3           2\n",
      "-2.519e-06 x + 0.01417 x - 26.51 x + 1.65e+04\n",
      "Fourth degree approximation:            4            3          2\n",
      "3.627e-08 x - 0.000276 x + 0.7868 x - 996.2 x + 4.725e+05\n"
     ]
    }
   ],
   "source": [
    "print(\"First degree approximation:\" , poly1)\n",
    "print(\"Second degree approximation:\" , poly2)\n",
    "print(\"Third degree approximation:\" , poly3)\n",
    "print(\"Fourth degree approximation:\" , poly4)"
   ]
  },
  {
   "cell_type": "code",
   "execution_count": null,
   "metadata": {},
   "outputs": [],
   "source": [
    "y=data2.iloc[:, 5].values.reshape(-1, 1)\n",
    "\n",
    "x1 =x.ravel()\n",
    "y1=y.ravel()\n",
    "\n",
    "#linear approximation\n",
    "lin, res1, _, _, _ = np.polyfit(x1,y1,1,full=True)\n",
    "poly1 = np.poly1d(lin)\n",
    "new_x1 = np.linspace(x1[0], x1[-1])\n",
    "new_y1 = poly1(new_x1)\n",
    "\n",
    "#quadratic approximation\n",
    "quad, res2, _, _, _ = np.polyfit(x1,y1,2,full=True)\n",
    "poly2 = np.poly1d(quad)\n",
    "new_x2 = np.linspace(x1[0], x1[-1])\n",
    "new_y2 = poly2(new_x2)\n",
    "\n",
    "#cubic approximation\n",
    "cub, res3, _, _, _ = np.polyfit(x1,y1,3,full=True)\n",
    "poly3 = np.poly1d(cub)\n",
    "new_x3 = np.linspace(x1[0], x1[-1])\n",
    "new_y3 = poly3(new_x3)\n",
    "\n",
    "#fourth degree approximation\n",
    "fourth, res4, _, _, _ = np.polyfit(x1,y1,4,full=True)\n",
    "poly4 = np.poly1d(fourth)\n",
    "new_x4 = np.linspace(x1[0], x1[-1])\n",
    "new_y4 = poly4(new_x4)\n",
    "\n",
    "#plot!\n",
    "plt.plot(new_x1, new_y1, color = 'red')\n",
    "plt.plot(new_x2, new_y2, color ='green')\n",
    "plt.plot(new_x3, new_y3, color = 'black')\n",
    "plt.plot(new_x4, new_y4, color = 'purple')\n",
    "plt.scatter(x,y)\n",
    "plt.xlabel(\"Years\")\n",
    "plt.ylabel(\"Number of recorded extinctions\")\n",
    "plt.title(\"Reptile Extinctions Years 1760-2010\")\n",
    "plt.legend([\"Linear\",\"Quadratic\", \"Cubic\", \"Fourth order\"])\n",
    "plt.savefig('rep_interp2.pdf')\n",
    "plt.show()"
   ]
  },
  {
   "cell_type": "markdown",
   "metadata": {},
   "source": [
    "#### Residuals"
   ]
  },
  {
   "cell_type": "code",
   "execution_count": 352,
   "metadata": {},
   "outputs": [
    {
     "name": "stdout",
     "output_type": "stream",
     "text": [
      "First degree residual: [4.41420118]\n",
      "Second degree residual: [2.93761388]\n",
      "Third degree residual: [1.68928723]\n",
      "Fourth degree residual: [1.57423217]\n"
     ]
    }
   ],
   "source": [
    "print(\"First degree residual:\" , res1/len(x1))\n",
    "print(\"Second degree residual:\" , res2/len(x1))\n",
    "print(\"Third degree residual:\" , res3/len(x1))\n",
    "print(\"Fourth degree residual:\" , res4/len(x1))"
   ]
  },
  {
   "cell_type": "markdown",
   "metadata": {},
   "source": [
    "#### Polynomials"
   ]
  },
  {
   "cell_type": "code",
   "execution_count": 353,
   "metadata": {},
   "outputs": [
    {
     "name": "stdout",
     "output_type": "stream",
     "text": [
      "First degree approximation:  \n",
      "0.02359 x - 42.08\n",
      "Second degree approximation:            2\n",
      "0.0002421 x - 0.889 x + 816.7\n",
      "Third degree approximation:            3           2\n",
      "3.399e-06 x - 0.01898 x + 35.31 x - 2.188e+04\n",
      "Fourth degree approximation:            4             3          2\n",
      "1.594e-08 x - 0.0001168 x + 0.3206 x - 390.9 x + 1.786e+05\n"
     ]
    }
   ],
   "source": [
    "print(\"First degree approximation:\" , poly1)\n",
    "print(\"Second degree approximation:\" , poly2)\n",
    "print(\"Third degree approximation:\" , poly3)\n",
    "print(\"Fourth degree approximation:\" , poly4)"
   ]
  },
  {
   "cell_type": "code",
   "execution_count": null,
   "metadata": {},
   "outputs": [],
   "source": []
  },
  {
   "cell_type": "markdown",
   "metadata": {},
   "source": [
    "## Parameters"
   ]
  },
  {
   "cell_type": "markdown",
   "metadata": {},
   "source": [
    "#### Sea Level"
   ]
  },
  {
   "cell_type": "code",
   "execution_count": 383,
   "metadata": {},
   "outputs": [],
   "source": [
    "#read in data\n",
    "SLdata = pd.read_csv('Matrix_Project/Global_Sea_Level.csv')\n",
    "\n",
    "#y data: GMSL (mm)\n",
    "x=SLdata.iloc[:, 0].values.reshape(-1, 1)\n",
    "y=SLdata.iloc[:, 1].values.reshape(-1, 1)"
   ]
  },
  {
   "cell_type": "code",
   "execution_count": null,
   "metadata": {},
   "outputs": [],
   "source": [
    "plt.scatter(x,y)\n",
    "plt.plot(x,0*x,'--')\n",
    "plt.xlabel(\"Year\")\n",
    "plt.ylabel(\"Sea Height Variation (mm)\")\n",
    "plt.title(\"Global Sea Level from 1880-2013\")\n",
    "plt.savefig('sea_level.pdf')\n",
    "plt.show()"
   ]
  },
  {
   "cell_type": "markdown",
   "metadata": {},
   "source": [
    "#### Human Population"
   ]
  },
  {
   "cell_type": "code",
   "execution_count": 385,
   "metadata": {},
   "outputs": [],
   "source": [
    "#read in data\n",
    "HPdata = pd.read_csv('Matrix_Project/Global_World_Population.csv')\n",
    "\n",
    "#y data: \n",
    "x=HPdata.iloc[:, 0].values.reshape(-1, 1)\n",
    "y=HPdata.iloc[:, 1].values.reshape(-1, 1)"
   ]
  },
  {
   "cell_type": "code",
   "execution_count": null,
   "metadata": {},
   "outputs": [],
   "source": [
    "plt.scatter(x,y, color ='red')\n",
    "plt.xlabel(\"Year\")\n",
    "plt.ylabel(\"Number of humans (billions)\")\n",
    "plt.title(\"Global Human Population from 1000-2010\")\n",
    "plt.savefig('human_pop.pdf')\n",
    "plt.show()"
   ]
  },
  {
   "cell_type": "markdown",
   "metadata": {},
   "source": [
    "#### Global Temperature"
   ]
  },
  {
   "cell_type": "code",
   "execution_count": 390,
   "metadata": {},
   "outputs": [],
   "source": [
    "#read in data\n",
    "HPdata = pd.read_csv('Matrix_Project/Land_Ocean_Global_mean_temperature.csv')\n",
    "\n",
    "#y data: \n",
    "x=HPdata.iloc[:, 0].values.reshape(-1, 1)\n",
    "y=HPdata.iloc[:, 1].values.reshape(-1, 1)"
   ]
  },
  {
   "cell_type": "code",
   "execution_count": null,
   "metadata": {},
   "outputs": [],
   "source": [
    "plt.scatter(x,y, color='green')\n",
    "plt.plot(x,0*x,'--')\n",
    "plt.xlabel(\"Year\")\n",
    "plt.ylabel(\"Mean Temperature Anomaly\")\n",
    "plt.title(\"Global Temperature Anomaly (base period 2007-2016)\")\n",
    "plt.savefig('temp.pdf')\n",
    "plt.show()"
   ]
  },
  {
   "cell_type": "markdown",
   "metadata": {},
   "source": [
    "#### CO2 Levels"
   ]
  },
  {
   "cell_type": "code",
   "execution_count": 393,
   "metadata": {},
   "outputs": [],
   "source": [
    "#read in data\n",
    "HPdata = pd.read_csv('Matrix_Project/Atmospheric_CO2_levels.csv')\n",
    "\n",
    "#y data: \n",
    "x=HPdata.iloc[:, 0].values.reshape(-1, 1)\n",
    "y=HPdata.iloc[:, 1].values.reshape(-1, 1)"
   ]
  },
  {
   "cell_type": "code",
   "execution_count": null,
   "metadata": {},
   "outputs": [],
   "source": [
    "plt.scatter(x,y,color='orange')\n",
    "plt.xlabel(\"Year\")\n",
    "plt.ylabel(\"CO2 concentration (ppm)\")\n",
    "plt.title(\"Global CO2 Concentration from year 0-2000\")\n",
    "plt.savefig('co2.pdf')\n",
    "plt.show()"
   ]
  },
  {
   "cell_type": "markdown",
   "metadata": {},
   "source": [
    "#### Methane Levels"
   ]
  },
  {
   "cell_type": "code",
   "execution_count": 395,
   "metadata": {},
   "outputs": [],
   "source": [
    "#read in data\n",
    "HPdata = pd.read_csv('Matrix_Project/Atmospheric_Methane_levels.csv')\n",
    "\n",
    "#y data: \n",
    "x=HPdata.iloc[:, 0].values.reshape(-1, 1)\n",
    "y=HPdata.iloc[:, 1].values.reshape(-1, 1)"
   ]
  },
  {
   "cell_type": "code",
   "execution_count": null,
   "metadata": {},
   "outputs": [],
   "source": [
    "plt.scatter(x,y,color='purple')\n",
    "plt.xlabel(\"Year\")\n",
    "plt.ylabel(\"Methane concentration (ppm)\")\n",
    "plt.title(\"Global Methane Concentration from year 1008-2020\")\n",
    "plt.savefig('methane.pdf')\n",
    "plt.show()"
   ]
  },
  {
   "cell_type": "code",
   "execution_count": null,
   "metadata": {},
   "outputs": [],
   "source": []
  }
 ],
 "metadata": {
  "kernelspec": {
   "display_name": "Python 3",
   "language": "python",
   "name": "python3"
  },
  "language_info": {
   "codemirror_mode": {
    "name": "ipython",
    "version": 3
   },
   "file_extension": ".py",
   "mimetype": "text/x-python",
   "name": "python",
   "nbconvert_exporter": "python",
   "pygments_lexer": "ipython3",
   "version": "3.9.0"
  }
 },
 "nbformat": 4,
 "nbformat_minor": 4
}
