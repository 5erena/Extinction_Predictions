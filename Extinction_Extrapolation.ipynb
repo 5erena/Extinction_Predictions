{
 "cells": [
  {
   "cell_type": "markdown",
   "metadata": {},
   "source": [
    "## Extrapolating Background vs Current Extinction Rates"
   ]
  },
  {
   "cell_type": "markdown",
   "metadata": {},
   "source": [
    "##### Note: Amphibians and Fish have no recorded extinctions between the years 200-1760, and thus their best approximation given the data is zero."
   ]
  },
  {
   "cell_type": "code",
   "execution_count": 133,
   "metadata": {},
   "outputs": [],
   "source": [
    "x = np.linspace(2000,2600,400)"
   ]
  },
  {
   "cell_type": "markdown",
   "metadata": {},
   "source": [
    "##### Amphibians"
   ]
  },
  {
   "cell_type": "code",
   "execution_count": null,
   "metadata": {},
   "outputs": [],
   "source": [
    "def amphs_old(x):\n",
    "    return 0*x\n",
    "\n",
    "def amphs_new1(x):\n",
    "    return 0.02116* x - 38.01\n",
    "def amphs_new2(x):\n",
    "    return 0.00012 *x**2 - 0.4311 *x + 387.6\n",
    "def amphs_new3(x):\n",
    "    return 8.049e-07 *x**3 - 0.004432 *x**2 + 8.141 *x - 4988\n",
    "def amphs_new4(x):\n",
    "    return 1.279e-08 *x**4 - 9.56e-05 *x**3 + 0.268 *x**2 - 333.7 *x + 1.558e+05\n",
    "\n",
    "plt.plot(x, amphs_old(x))\n",
    "plt.plot(x, amphs_new1(x))\n",
    "plt.plot(x, amphs_new2(x))\n",
    "plt.plot(x, amphs_new3(x))\n",
    "plt.plot(x, amphs_new4(x))\n",
    "\n",
    "plt.xlabel(\"Years\")\n",
    "plt.ylabel(\"Number of extinctions\")\n",
    "plt.title(\"Amphibian Extinction Projections 2020-2600\")\n",
    "plt.legend([\"Background Rate\",\"Current Rate (1st order)\",\"Current Rate (2nd order)\",\"Current Rate (3rd order)\",\"Current Rate (4th order)\"],prop={'size': 11})\n",
    "plt.savefig('amphibian_proj.pdf')\n",
    "plt.show()"
   ]
  },
  {
   "cell_type": "code",
   "execution_count": null,
   "metadata": {},
   "outputs": [],
   "source": [
    "plt.plot(x, amphs_old(x),'o--')\n",
    "plt.plot(x, amphs_new1(x))\n",
    "plt.plot(x, amphs_new2(x))\n",
    "plt.plot(x, amphs_new3(x))\n",
    "plt.plot(x, amphs_new4(x))\n",
    "\n",
    "plt.xlabel(\"Years\")\n",
    "plt.ylabel(\"Number of extinctions\")\n",
    "plt.xlim(2020,2050)\n",
    "plt.ylim(-0.5,20)\n",
    "plt.title(\"Amphibian Extinction Projections 2020-2050\")\n",
    "plt.legend([\"Background Rate\",\"Current Rate (1st order)\",\"Current Rate (2nd order)\",\"Current Rate (3rd order)\",\"Current Rate (4th order)\"],prop={'size': 11})\n",
    "plt.savefig('amphibian_proj2.pdf')\n",
    "plt.show()"
   ]
  },
  {
   "cell_type": "markdown",
   "metadata": {},
   "source": [
    "##### Birds"
   ]
  },
  {
   "cell_type": "code",
   "execution_count": null,
   "metadata": {},
   "outputs": [],
   "source": [
    "def birds_old(x):\n",
    "    return 0.002075 *x - 0.9758\n",
    "def birds_new1(x):\n",
    "    return 0.0532*x - 90.81\n",
    "def birds_new2(x):\n",
    "    return 0.0002662 *x**2 - 0.9503 *x + 853.5\n",
    "def birds_new3(x):\n",
    "    return 3.453e-06 *x**3 - 0.01926 *x**2 + 35.82 *x - 2.221e+04\n",
    "def birds_new4(x):\n",
    "    return 9.606e-08 *x**4 - 0.0007208 *x**3 + 2.027 *x**2 - 2532 *x + 1.186e+06\n",
    "\n",
    "plt.plot(x, birds_old(x))\n",
    "plt.plot(x, birds_new1(x))\n",
    "plt.plot(x, birds_new2(x))\n",
    "plt.plot(x, birds_new3(x))\n",
    "plt.plot(x, birds_new4(x))\n",
    "plt.xlabel(\"Years\")\n",
    "plt.ylabel(\"Number of extinctions\")\n",
    "plt.title(\"Bird Extinction Projections 2020-2600\")\n",
    "plt.legend([\"Background Rate\",\"Current Rate (1st order)\",\"Current Rate (2nd order)\",\"Current Rate (3rd order)\",\"Current Rate (4th order)\"],prop={'size': 11})\n",
    "plt.savefig('bird_proj.pdf')\n",
    "plt.show()"
   ]
  },
  {
   "cell_type": "code",
   "execution_count": null,
   "metadata": {},
   "outputs": [],
   "source": [
    "plt.plot(x, birds_old(x),'o--')\n",
    "plt.plot(x, birds_new1(x))\n",
    "plt.plot(x, birds_new2(x))\n",
    "plt.plot(x, birds_new3(x))\n",
    "plt.plot(x, birds_new4(x))\n",
    "plt.xlim(2020,2050)\n",
    "plt.ylim(0,50)\n",
    "plt.xlabel(\"Years\")\n",
    "plt.ylabel(\"Number of extinctions\")\n",
    "plt.title(\"Bird Extinction Projections 2020-2050\")\n",
    "plt.legend([\"Background Rate\",\"Current Rate (1st order)\",\"Current Rate (2nd order)\",\"Current Rate (3rd order)\",\"Current Rate (4th order)\"],prop={'size': 11})\n",
    "plt.savefig('bird_proj2.pdf')\n",
    "plt.show()"
   ]
  },
  {
   "cell_type": "markdown",
   "metadata": {},
   "source": [
    "##### Fish"
   ]
  },
  {
   "cell_type": "code",
   "execution_count": null,
   "metadata": {},
   "outputs": [],
   "source": [
    "def fish_old(x):\n",
    "    return 0*x\n",
    "def fish_new1(x):\n",
    "    return 0.03217* x - 57.99\n",
    "def fish_new2(x):\n",
    "    return 0.0002253 *x**2 - 0.8171 *x + 741.2\n",
    "def fish_new3(x):\n",
    "    return -9.064e-07 *x**3 + 0.005351 *x**2 - 10.47 *x + 6795\n",
    "def fish_new4(x):\n",
    "    return -7.112e-09 *x**4 + 5.272e-05 *x**3 - 0.1462 *x**2 + 179.7 *x - 8.263e+04\n",
    "\n",
    "plt.plot(x, fish_old(x))\n",
    "plt.plot(x, fish_new1(x))\n",
    "plt.plot(x, fish_new2(x))\n",
    "plt.plot(x, fish_new3(x))\n",
    "plt.plot(x, fish_new4(x))\n",
    "plt.ylim(-1,100)\n",
    "plt.xlabel(\"Years\")\n",
    "plt.ylabel(\"Number of extinctions\")\n",
    "plt.title(\"Fish Extinction Projections 2020-2600\")\n",
    "plt.legend([\"Background Rate\",\"Current Rate (1st order)\",\"Current Rate (2nd order)\",\"Current Rate (3rd order)\",\"Current Rate (4th order)\"],prop={'size': 11})\n",
    "plt.savefig('fish_proj.pdf')\n",
    "plt.show()"
   ]
  },
  {
   "cell_type": "code",
   "execution_count": null,
   "metadata": {},
   "outputs": [],
   "source": [
    "plt.plot(x, fish_old(x),'o--')\n",
    "plt.plot(x, fish_new1(x))\n",
    "plt.plot(x, fish_new2(x))\n",
    "plt.plot(x, fish_new3(x))\n",
    "plt.plot(x, fish_new4(x))\n",
    "plt.xlim(2020,2050)\n",
    "plt.ylim(0,50)\n",
    "plt.xlabel(\"Years\")\n",
    "plt.ylabel(\"Number of extinctions\")\n",
    "plt.title(\"Fish Extinction Projections 2020-2050\")\n",
    "plt.legend([\"Background Rate\",\"Current Rate (1st order)\",\"Current Rate (2nd order)\",\"Current Rate (3rd order)\",\"Current Rate (4th order)\"],prop={'size': 11})\n",
    "plt.savefig('fish_proj2.pdf')\n",
    "plt.show()"
   ]
  },
  {
   "cell_type": "markdown",
   "metadata": {},
   "source": [
    "##### Mammals"
   ]
  },
  {
   "cell_type": "code",
   "execution_count": null,
   "metadata": {},
   "outputs": [],
   "source": [
    "def mams_old(x):\n",
    "    return 0.001084 *x + 0.517\n",
    "def mams_new1(x):\n",
    "    return 0.03986 *x - 69.6\n",
    "def mams_new2(x):\n",
    "    return -7.265e-05 *x**2 + 0.3138 *x - 327.3\n",
    "def mams_new3(x):\n",
    "    return -2.519e-06 *x**3 + 0.01417 *x**2 - 26.51 *x + 1.65e+04\n",
    "def mams_new4(x):\n",
    "    return 3.627e-08 *x**4 - 0.000276 *x**3 + 0.7868 *x**2 - 996.2 *x + 4.725e+05\n",
    "\n",
    "plt.plot(x, mams_old(x))\n",
    "plt.plot(x, mams_new1(x))\n",
    "plt.plot(x, mams_new2(x))\n",
    "plt.plot(x, mams_new3(x))\n",
    "plt.plot(x, mams_new4(x))\n",
    "plt.xlabel(\"Years\")\n",
    "plt.ylabel(\"Number of extinctions\")\n",
    "plt.title(\"Mammal Extinction Projections 2020-2600\")\n",
    "plt.legend([\"Background Rate\",\"Current Rate (1st order)\",\"Current Rate (2nd order)\",\"Current Rate (3rd order)\",\"Current Rate (4th order)\"],prop={'size': 11})\n",
    "plt.savefig('mammal_proj.pdf')\n",
    "plt.show()"
   ]
  },
  {
   "cell_type": "code",
   "execution_count": null,
   "metadata": {},
   "outputs": [],
   "source": [
    "plt.plot(x, mams_old(x),'o--')\n",
    "plt.plot(x, mams_new1(x))\n",
    "plt.plot(x, mams_new2(x))\n",
    "plt.plot(x, mams_new3(x))\n",
    "plt.plot(x, mams_new4(x))\n",
    "plt.xlim(2020,2050)\n",
    "plt.ylim(0,50)\n",
    "plt.xlabel(\"Years\")\n",
    "plt.ylabel(\"Number of extinctions\")\n",
    "plt.title(\"Mammal Extinction Projections 2020-2050\")\n",
    "plt.legend([\"Background Rate\",\"Current Rate (1st order)\",\"Current Rate (2nd order)\",\"Current Rate (3rd order)\",\"Current Rate (4th order)\"],prop={'size': 11})\n",
    "plt.savefig('mammal_proj2.pdf')\n",
    "plt.show()"
   ]
  },
  {
   "cell_type": "markdown",
   "metadata": {},
   "source": [
    "##### Reptiles"
   ]
  },
  {
   "cell_type": "code",
   "execution_count": null,
   "metadata": {},
   "outputs": [],
   "source": [
    "def reps_old(x):\n",
    "    return 7.861e-05 *x + 0.339\n",
    "def reps_new1(x):\n",
    "    return 0.02359 *x - 42.08\n",
    "def reps_new2(x):\n",
    "    return 0.0002421 *x**2 - 0.889 *x + 816.7\n",
    "def reps_new3(x):\n",
    "    return 3.399e-06 *x**3 - 0.01898 *x**2 + 35.31 *x - 2.188e+04\n",
    "def reps_new4(x):\n",
    "    return 1.594e-08 *x**4 - 0.0001168 *x**3 + 0.3206 *x**2 - 390.9 *x + 1.786e+05\n",
    "\n",
    "plt.plot(x, reps_old(x))\n",
    "plt.plot(x, reps_new1(x))\n",
    "plt.plot(x, reps_new2(x))\n",
    "plt.plot(x, reps_new3(x))\n",
    "plt.plot(x, reps_new4(x))\n",
    "plt.xlabel(\"Years\")\n",
    "plt.ylabel(\"Number of extinctions\")\n",
    "plt.title(\"Reptile Extinction Projections 2020-2600\")\n",
    "plt.legend([\"Background Rate\",\"Current Rate (1st order)\",\"Current Rate (2nd order)\",\"Current Rate (3rd order)\",\"Current Rate (4th order)\"],prop={'size': 11})\n",
    "plt.savefig('reptile_proj.pdf')\n",
    "plt.show()\n"
   ]
  },
  {
   "cell_type": "code",
   "execution_count": null,
   "metadata": {},
   "outputs": [],
   "source": [
    "plt.plot(x, reps_old(x),'o--')\n",
    "plt.plot(x, reps_new1(x))\n",
    "plt.plot(x, reps_new2(x))\n",
    "plt.plot(x, reps_new3(x))\n",
    "plt.plot(x, reps_new4(x))\n",
    "plt.xlim(2020,2050)\n",
    "plt.ylim(0,50)\n",
    "plt.xlabel(\"Years\")\n",
    "plt.ylabel(\"Number of extinctions\")\n",
    "plt.title(\"Reptile Extinction Projections 2020-2050\")\n",
    "plt.legend([\"Background Rate\",\"Current Rate (1st order)\",\"Current Rate (2nd order)\",\"Current Rate (3rd order)\",\"Current Rate (4th order)\"],prop={'size': 11})\n",
    "plt.savefig('reptile_proj2.pdf')\n",
    "plt.show()"
   ]
  }
 ],
 "metadata": {
  "kernelspec": {
   "display_name": "Python 3",
   "language": "python",
   "name": "python3"
  },
  "language_info": {
   "codemirror_mode": {
    "name": "ipython",
    "version": 3
   },
   "file_extension": ".py",
   "mimetype": "text/x-python",
   "name": "python",
   "nbconvert_exporter": "python",
   "pygments_lexer": "ipython3",
   "version": "3.9.0"
  }
 },
 "nbformat": 4,
 "nbformat_minor": 4
}
